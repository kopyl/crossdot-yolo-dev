{
 "cells": [
  {
   "cell_type": "code",
   "execution_count": 332,
   "metadata": {},
   "outputs": [
    {
     "name": "stdout",
     "output_type": "stream",
     "text": [
      "{'predictions': [['adult', 0.7500598430633545], ['adult', 0.538204550743103]], 'version': '1.0.4'}\n"
     ]
    }
   ],
   "source": [
    "import requests\n",
    "\n",
    "\n",
    "payload = {\n",
    "    \"image_url\": 'https://i.imgur.com/uYe8iLX.jpg',\n",
    "    \"return_version\": True,\n",
    "}\n",
    "headers = {\n",
    "    \"Authorization\": \"8Jw1kj5Woa4SDHtD%hH!7v%NBox0!47^WL4--\",\n",
    "}\n",
    "\n",
    "\n",
    "# res = requests.post(\"https://yopfu4vw5gn4csv24cxdnfegbq0rzglx.lambda-url.us-east-1.on.aws/\", json=payload, headers=headers)\n",
    "# res = requests.post(\"http://ec2-18-207-117-213.compute-1.amazonaws.com\", json=payload, headers=headers)  # beefy\n",
    "# res = requests.post(\"http://ec2-54-90-54-106.compute-1.amazonaws.com\", json=payload, headers=headers)  # cheap\n",
    "# res = requests.post(\"http://ec2-52-91-114-22.compute-1.amazonaws.com\", json=payload, headers=headers)  # cheap\n",
    "res = requests.post(\"http://ec2-54-167-124-31.compute-1.amazonaws.com/\", json=payload, headers=headers)\n",
    "\n",
    "print(res.json())"
   ]
  },
  {
   "cell_type": "code",
   "execution_count": 148,
   "metadata": {},
   "outputs": [
    {
     "name": "stdout",
     "output_type": "stream",
     "text": [
      "{'result': 'Invalid token', 'version': '1.0.4'}\n"
     ]
    }
   ],
   "source": [
    "import requests\n",
    "\n",
    "\n",
    "payload = {\n",
    "    \"image_url\": 'https://...',\n",
    "    \"return_version\": True,\n",
    "}\n",
    "headers = {\n",
    "    \"Authorization\": \"tes\",\n",
    "    \"wow\": \"wow\",\n",
    "}\n",
    "res = requests.post(\"https://yopfu4vw5gn4csv24cxdnfegbq0rzglx.lambda-url.us-east-1.on.aws/\", json=payload, headers=headers)\n",
    "# res = requests.post(\"http://localhost:9000/2015-03-31/functions/function/invocations\", json=payload, headers=headers)\n",
    "print(res.json())"
   ]
  },
  {
   "cell_type": "code",
   "execution_count": 151,
   "metadata": {},
   "outputs": [
    {
     "ename": "ServerDisconnectedError",
     "evalue": "Server disconnected",
     "output_type": "error",
     "traceback": [
      "\u001b[0;31m---------------------------------------------------------------------------\u001b[0m",
      "\u001b[0;31mServerDisconnectedError\u001b[0m                   Traceback (most recent call last)",
      "Cell \u001b[0;32mIn[151], line 26\u001b[0m\n\u001b[1;32m     23\u001b[0m \u001b[39mfor\u001b[39;00m i \u001b[39min\u001b[39;00m \u001b[39mrange\u001b[39m(\u001b[39m0\u001b[39m, \u001b[39m600\u001b[39m):\n\u001b[1;32m     24\u001b[0m     tasks\u001b[39m.\u001b[39mappend(asyncio\u001b[39m.\u001b[39mcreate_task(make_request(session)))\n\u001b[0;32m---> 26\u001b[0m results \u001b[39m=\u001b[39m \u001b[39mawait\u001b[39;00m asyncio\u001b[39m.\u001b[39mgather(\u001b[39m*\u001b[39mtasks)\n\u001b[1;32m     27\u001b[0m \u001b[39mfor\u001b[39;00m result \u001b[39min\u001b[39;00m results:\n\u001b[1;32m     28\u001b[0m     \u001b[39mprint\u001b[39m(result)\n",
      "Cell \u001b[0;32mIn[151], line 13\u001b[0m, in \u001b[0;36mmake_request\u001b[0;34m(session)\u001b[0m\n\u001b[1;32m      7\u001b[0m payload \u001b[39m=\u001b[39m {\n\u001b[1;32m      8\u001b[0m     \u001b[39m\"\u001b[39m\u001b[39mimage_url\u001b[39m\u001b[39m\"\u001b[39m: \u001b[39m\"\u001b[39m\u001b[39mhttps://cdn.discordapp.com/attachments/1096822099345145969/1117198390585987092/68a31cb7cc50b355a63624176e095c250cb39e6c.jpg\u001b[39m\u001b[39m\"\u001b[39m\n\u001b[1;32m      9\u001b[0m }\n\u001b[1;32m     10\u001b[0m headers \u001b[39m=\u001b[39m {\n\u001b[1;32m     11\u001b[0m     \u001b[39m\"\u001b[39m\u001b[39mAuthorization\u001b[39m\u001b[39m\"\u001b[39m: \u001b[39m\"\u001b[39m\u001b[39m8Jw1kj5Woa4SDHtD\u001b[39m\u001b[39m%\u001b[39m\u001b[39mhH!7v\u001b[39m\u001b[39m%\u001b[39m\u001b[39mNBox0!47^WL4--\u001b[39m\u001b[39m\"\u001b[39m,\n\u001b[1;32m     12\u001b[0m }\n\u001b[0;32m---> 13\u001b[0m \u001b[39masync\u001b[39;00m \u001b[39mwith\u001b[39;00m session\u001b[39m.\u001b[39mpost(url, json\u001b[39m=\u001b[39mpayload, headers\u001b[39m=\u001b[39mheaders) \u001b[39mas\u001b[39;00m response:\n\u001b[1;32m     14\u001b[0m     \u001b[39mif\u001b[39;00m response\u001b[39m.\u001b[39mstatus \u001b[39m!=\u001b[39m \u001b[39m200\u001b[39m:\n\u001b[1;32m     15\u001b[0m         \u001b[39mprint\u001b[39m(response\u001b[39m.\u001b[39mstatus)\n",
      "File \u001b[0;32m~/.pyenv/versions/3.8.13/lib/python3.8/site-packages/aiohttp/client.py:1141\u001b[0m, in \u001b[0;36m_BaseRequestContextManager.__aenter__\u001b[0;34m(self)\u001b[0m\n\u001b[1;32m   1140\u001b[0m \u001b[39masync\u001b[39;00m \u001b[39mdef\u001b[39;00m \u001b[39m__aenter__\u001b[39m(\u001b[39mself\u001b[39m) \u001b[39m-\u001b[39m\u001b[39m>\u001b[39m _RetType:\n\u001b[0;32m-> 1141\u001b[0m     \u001b[39mself\u001b[39m\u001b[39m.\u001b[39m_resp \u001b[39m=\u001b[39m \u001b[39mawait\u001b[39;00m \u001b[39mself\u001b[39m\u001b[39m.\u001b[39m_coro\n\u001b[1;32m   1142\u001b[0m     \u001b[39mreturn\u001b[39;00m \u001b[39mself\u001b[39m\u001b[39m.\u001b[39m_resp\n",
      "File \u001b[0;32m~/.pyenv/versions/3.8.13/lib/python3.8/site-packages/aiohttp/client.py:560\u001b[0m, in \u001b[0;36mClientSession._request\u001b[0;34m(self, method, str_or_url, params, data, json, cookies, headers, skip_auto_headers, auth, allow_redirects, max_redirects, compress, chunked, expect100, raise_for_status, read_until_eof, proxy, proxy_auth, timeout, verify_ssl, fingerprint, ssl_context, ssl, proxy_headers, trace_request_ctx, read_bufsize)\u001b[0m\n\u001b[1;32m    558\u001b[0m resp \u001b[39m=\u001b[39m \u001b[39mawait\u001b[39;00m req\u001b[39m.\u001b[39msend(conn)\n\u001b[1;32m    559\u001b[0m \u001b[39mtry\u001b[39;00m:\n\u001b[0;32m--> 560\u001b[0m     \u001b[39mawait\u001b[39;00m resp\u001b[39m.\u001b[39mstart(conn)\n\u001b[1;32m    561\u001b[0m \u001b[39mexcept\u001b[39;00m \u001b[39mBaseException\u001b[39;00m:\n\u001b[1;32m    562\u001b[0m     resp\u001b[39m.\u001b[39mclose()\n",
      "File \u001b[0;32m~/.pyenv/versions/3.8.13/lib/python3.8/site-packages/aiohttp/client_reqrep.py:899\u001b[0m, in \u001b[0;36mClientResponse.start\u001b[0;34m(self, connection)\u001b[0m\n\u001b[1;32m    897\u001b[0m \u001b[39mtry\u001b[39;00m:\n\u001b[1;32m    898\u001b[0m     protocol \u001b[39m=\u001b[39m \u001b[39mself\u001b[39m\u001b[39m.\u001b[39m_protocol\n\u001b[0;32m--> 899\u001b[0m     message, payload \u001b[39m=\u001b[39m \u001b[39mawait\u001b[39;00m protocol\u001b[39m.\u001b[39mread()  \u001b[39m# type: ignore[union-attr]\u001b[39;00m\n\u001b[1;32m    900\u001b[0m \u001b[39mexcept\u001b[39;00m http\u001b[39m.\u001b[39mHttpProcessingError \u001b[39mas\u001b[39;00m exc:\n\u001b[1;32m    901\u001b[0m     \u001b[39mraise\u001b[39;00m ClientResponseError(\n\u001b[1;32m    902\u001b[0m         \u001b[39mself\u001b[39m\u001b[39m.\u001b[39mrequest_info,\n\u001b[1;32m    903\u001b[0m         \u001b[39mself\u001b[39m\u001b[39m.\u001b[39mhistory,\n\u001b[0;32m   (...)\u001b[0m\n\u001b[1;32m    906\u001b[0m         headers\u001b[39m=\u001b[39mexc\u001b[39m.\u001b[39mheaders,\n\u001b[1;32m    907\u001b[0m     ) \u001b[39mfrom\u001b[39;00m \u001b[39mexc\u001b[39;00m\n",
      "File \u001b[0;32m~/.pyenv/versions/3.8.13/lib/python3.8/site-packages/aiohttp/streams.py:616\u001b[0m, in \u001b[0;36mDataQueue.read\u001b[0;34m(self)\u001b[0m\n\u001b[1;32m    614\u001b[0m \u001b[39mself\u001b[39m\u001b[39m.\u001b[39m_waiter \u001b[39m=\u001b[39m \u001b[39mself\u001b[39m\u001b[39m.\u001b[39m_loop\u001b[39m.\u001b[39mcreate_future()\n\u001b[1;32m    615\u001b[0m \u001b[39mtry\u001b[39;00m:\n\u001b[0;32m--> 616\u001b[0m     \u001b[39mawait\u001b[39;00m \u001b[39mself\u001b[39m\u001b[39m.\u001b[39m_waiter\n\u001b[1;32m    617\u001b[0m \u001b[39mexcept\u001b[39;00m (asyncio\u001b[39m.\u001b[39mCancelledError, asyncio\u001b[39m.\u001b[39mTimeoutError):\n\u001b[1;32m    618\u001b[0m     \u001b[39mself\u001b[39m\u001b[39m.\u001b[39m_waiter \u001b[39m=\u001b[39m \u001b[39mNone\u001b[39;00m\n",
      "\u001b[0;31mServerDisconnectedError\u001b[0m: Server disconnected"
     ]
    }
   ],
   "source": [
    "import aiohttp\n",
    "import asyncio\n",
    "\n",
    "\n",
    "async def make_request(session):\n",
    "    url = \"http://ec2-52-91-114-22.compute-1.amazonaws.com\"\n",
    "    payload = {\n",
    "        \"image_url\": \"https://cdn.discordapp.com/attachments/1096822099345145969/1117198390585987092/68a31cb7cc50b355a63624176e095c250cb39e6c.jpg\"\n",
    "    }\n",
    "    headers = {\n",
    "        \"Authorization\": \"8Jw1kj5Woa4SDHtD%hH!7v%NBox0!47^WL4--\",\n",
    "    }\n",
    "    async with session.post(url, json=payload, headers=headers) as response:\n",
    "        if response.status != 200:\n",
    "            print(response.status)\n",
    "            return response\n",
    "        return await response.json()\n",
    "\n",
    "\n",
    "async with aiohttp.ClientSession() as session:\n",
    "    tasks = []\n",
    "\n",
    "    for i in range(0, 600):\n",
    "        tasks.append(asyncio.create_task(make_request(session)))\n",
    "\n",
    "    results = await asyncio.gather(*tasks)\n",
    "    for result in results:\n",
    "        print(result)"
   ]
  },
  {
   "cell_type": "code",
   "execution_count": null,
   "metadata": {},
   "outputs": [],
   "source": [
    "result[0].status"
   ]
  },
  {
   "cell_type": "code",
   "execution_count": null,
   "metadata": {},
   "outputs": [],
   "source": [
    "import json\n",
    "# j = {'headers': {'content-length': '52', 'x-amzn-tls-version': 'TLSv1.2', 'x-forwarded-proto': 'https', 'x-forwarded-port': '443', 'x-forwarded-for': '37.57.204.6', 'accept': '*/*', 'authorization': 'tes', 'x-amzn-tls-cipher-suite': 'ECDHE-RSA-AES128-GCM-SHA256', 'x-amzn-trace-id': 'Root=1-648e69c2-533e8ceb0ed4b2b516e0fc0d', 'host': 'yopfu4vw5gn4csv24cxdnfegbq0rzglx.lambda-url.us-east-1.on.aws', 'content-type': 'application/json', 'accept-encoding': 'gzip, deflate', 'user-agent': 'python-requests/2.31.0'}, 'isBase64Encoded': False, 'rawPath': '/', 'routeKey': '$default', 'requestContext': {'accountId': 'anonymous', 'timeEpoch': 1687054786587, 'routeKey': '$default', 'stage': '$default', 'domainPrefix': 'yopfu4vw5gn4csv24cxdnfegbq0rzglx', 'requestId': 'f514ef47-e2a0-415f-8d54-667b98f1d1d2', 'domainName': 'yopfu4vw5gn4csv24cxdnfegbq0rzglx.lambda-url.us-east-1.on.aws', 'http': {'path': '/', 'protocol': 'HTTP/1.1', 'method': 'POST', 'sourceIp': '37.57.204.6', 'userAgent': 'python-requests/2.31.0'}, 'time': '18/Jun/2023:02:19:46 +0000', 'apiId': 'yopfu4vw5gn4csv24cxdnfegbq0rzglx'}, 'body': '{\"image_url\": \"https://...\", \"return_version\": true}', 'version': '2.0', 'rawQueryString': ''}\n",
    "j = {'image_url': 'https://cdn.discordapp.com/attachments/1083610420096532581/1118698775641325619/1-year-old-white-icibnp.png', 'event': {'headers': {'content-length': '147', 'x-amzn-tls-version': 'TLSv1.2', 'x-forwarded-proto': 'https', 'x-forwarded-port': '443', 'x-forwarded-for': '37.57.204.6', 'accept': '*/*', 'authorization': '8Jw1kj5Woa4SDHtD%hH!7v%NBox0!47^WL4--', 'x-amzn-tls-cipher-suite': 'ECDHE-RSA-AES128-GCM-SHA256', 'x-amzn-trace-id': 'Root=1-648e744c-36337d3a3e49d0f37aad7e43', 'host': 'yopfu4vw5gn4csv24cxdnfegbq0rzglx.lambda-url.us-east-1.on.aws', 'content-type': 'application/json', 'accept-encoding': 'gzip, deflate', 'user-agent': 'python-requests/2.31.0'}, 'isBase64Encoded': False, 'rawPath': '/', 'routeKey': '$default', 'requestContext': {'accountId': 'anonymous', 'timeEpoch': 1687057484043, 'routeKey': '$default', 'stage': '$default', 'domainPrefix': 'yopfu4vw5gn4csv24cxdnfegbq0rzglx', 'requestId': '18ec19b0-e80a-4597-83c1-817b46217422', 'domainName': 'yopfu4vw5gn4csv24cxdnfegbq0rzglx.lambda-url.us-east-1.on.aws', 'http': {'path': '/', 'protocol': 'HTTP/1.1', 'method': 'POST', 'sourceIp': '37.57.204.6', 'userAgent': 'python-requests/2.31.0'}, 'time': '18/Jun/2023:03:04:44 +0000', 'apiId': 'yopfu4vw5gn4csv24cxdnfegbq0rzglx'}, 'body': '{\"image_url\": \"https://cdn.discordapp.com/attachments/1083610420096532581/1118698775641325619/1-year-old-white-icibnp.png\", \"return_version\": true}', 'version': '2.0', 'rawQueryString': ''}, 'token': '8Jw1kj5Woa4SDHtD%hH!7v%NBox0!47^WL4--'}\n",
    "\n",
    "\n",
    "\n",
    "\n",
    "\n",
    "\n",
    "print(json.dumps(j, indent=4))\n",
    "\n",
    "# print(j[\"body\"])"
   ]
  }
 ],
 "metadata": {
  "kernelspec": {
   "display_name": "Python 3",
   "language": "python",
   "name": "python3"
  },
  "language_info": {
   "codemirror_mode": {
    "name": "ipython",
    "version": 3
   },
   "file_extension": ".py",
   "mimetype": "text/x-python",
   "name": "python",
   "nbconvert_exporter": "python",
   "pygments_lexer": "ipython3",
   "version": "3.8.13"
  },
  "orig_nbformat": 4
 },
 "nbformat": 4,
 "nbformat_minor": 2
}
