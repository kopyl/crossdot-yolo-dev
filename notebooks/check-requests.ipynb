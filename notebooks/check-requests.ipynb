{
 "cells": [
  {
   "cell_type": "code",
   "execution_count": 29,
   "metadata": {},
   "outputs": [
    {
     "name": "stdout",
     "output_type": "stream",
     "text": [
      "{'categories': {'adult_nsfw': False, 'child_nsfw': False}, 'scores': {'adult_nsfw': 0, 'child_nsfw': 0}, 'version': '1.0.5'}\n"
     ]
    }
   ],
   "source": [
    "import requests\n",
    "import time\n",
    "import json\n",
    "\n",
    "\n",
    "def make_request_sync():\n",
    "    payload = {\n",
    "        \"image_url\": 'https://image.civitai.com/xG1nkqKTMzGDvpLrqFT7WA/fb2c6c74-97ee-4cda-fda4-8ea23f892200/width=707/8651cacc-5138-4053-e11a-a170817ffd00.jpeg',\n",
    "        \"return_version\": True\n",
    "    }\n",
    "    headers = {\n",
    "        # \"Authorization\": \"8Jw1kj5Woa4SDHtD%hH!7v%NBox0!47^WL4--\",\n",
    "        # \"Authorization\": \"xxx\",\n",
    "        \"Authorization\": \"8Jw1kj5Woa4SDHtD%hH!7v%NBox0!47^WL4--\",\n",
    "    }\n",
    "    # res = requests.post(\"http://ec2-54-87-24-74.compute-1.amazonaws.com\", json=payload, headers=headers)  # beefy\n",
    "    # res = requests.post(\"http://crossdot-ec2-autoscaling-211212324.us-east-1.elb.amazonaws.com\", json=payload, headers=headers)  # simple\n",
    "    # res = requests.post(\"http://ec2-54-90-110-119.compute-1.amazonaws.com/v0/classify/image\", json=payload, headers=headers)\n",
    "    res = requests.post(\"https://api.crossdot.co/v0/classify/image\", json=payload, headers=headers)\n",
    "    # res = requests.post(\"http://ec2-54-87-230-121.compute-1.amazonaws.com\", json=payload, headers=headers)  # simple\n",
    "    # print(json.dumps(res.json(), indent=4))\n",
    "    print(res.json())\n",
    "\n",
    "\n",
    "make_request_sync()"
   ]
  },
  {
   "cell_type": "code",
   "execution_count": null,
   "metadata": {},
   "outputs": [],
   "source": []
  },
  {
   "cell_type": "code",
   "execution_count": 2,
   "metadata": {},
   "outputs": [
    {
     "data": {
      "text/plain": [
       "1"
      ]
     },
     "execution_count": 2,
     "metadata": {},
     "output_type": "execute_result"
    }
   ],
   "source": [
    "len(res.json()['predictions'])"
   ]
  },
  {
   "cell_type": "code",
   "execution_count": 9,
   "metadata": {},
   "outputs": [
    {
     "name": "stdout",
     "output_type": "stream",
     "text": [
      "<ClientResponse(http://crossdot-ec2-autoscaling-211212324.us-east-1.elb.amazonaws.com) [200 OK]>\n",
      "<CIMultiDictProxy('Date': 'Tue, 20 Jun 2023 11:51:13 GMT', 'Content-Type': 'application/json', 'Content-Length': '65', 'Connection': 'keep-alive', 'Server': 'Werkzeug/2.3.6 Python/3.10.6')>\n",
      "\n",
      "<ClientResponse(http://crossdot-ec2-autoscaling-211212324.us-east-1.elb.amazonaws.com) [200 OK]>\n",
      "<CIMultiDictProxy('Date': 'Tue, 20 Jun 2023 11:51:13 GMT', 'Content-Type': 'application/json', 'Content-Length': '65', 'Connection': 'keep-alive', 'Server': 'Werkzeug/2.3.6 Python/3.10.6')>\n",
      "\n",
      "{'predictions': [['adult', 0.8310493230819702]], 'version': '1.0.4'}\n",
      "{'predictions': [['adult', 0.8310493230819702]], 'version': '1.0.4'}\n"
     ]
    }
   ],
   "source": [
    "import aiohttp\n",
    "import asyncio\n",
    "\n",
    "\n",
    "async def make_request(session):\n",
    "    url = \"http://crossdot-ec2-autoscaling-211212324.us-east-1.elb.amazonaws.com\"\n",
    "    payload = {\n",
    "        \"image_url\": \"https://cdn.discordapp.com/attachments/1096822099345145969/1117198390585987092/68a31cb7cc50b355a63624176e095c250cb39e6c.jpg\",\n",
    "        \"return_version\": True\n",
    "    }\n",
    "    headers = {\n",
    "        \"Authorization\": \"8Jw1kj5Woa4SDHtD%hH!7v%NBox0!47^WL4--\",\n",
    "    }\n",
    "    async with session.post(url, json=payload, headers=headers) as response:\n",
    "        print(response)\n",
    "        return await response.json()\n",
    "\n",
    "\n",
    "async with aiohttp.ClientSession() as session:\n",
    "    tasks = []\n",
    "\n",
    "    for i in range(0, 1000):\n",
    "        tasks.append(asyncio.create_task(make_request(session)))\n",
    "\n",
    "    results = await asyncio.gather(*tasks)\n",
    "    for result in results:\n",
    "        print(result)"
   ]
  }
 ],
 "metadata": {
  "kernelspec": {
   "display_name": "Python 3",
   "language": "python",
   "name": "python3"
  },
  "language_info": {
   "codemirror_mode": {
    "name": "ipython",
    "version": 3
   },
   "file_extension": ".py",
   "mimetype": "text/x-python",
   "name": "python",
   "nbconvert_exporter": "python",
   "pygments_lexer": "ipython3",
   "version": "3.8.13"
  },
  "orig_nbformat": 4
 },
 "nbformat": 4,
 "nbformat_minor": 2
}
