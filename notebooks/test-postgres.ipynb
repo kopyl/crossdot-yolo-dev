{
 "cells": [
  {
   "cell_type": "code",
   "execution_count": 1,
   "metadata": {},
   "outputs": [],
   "source": [
    "import psycopg2\n",
    "import datetime"
   ]
  },
  {
   "cell_type": "code",
   "execution_count": 5,
   "metadata": {},
   "outputs": [],
   "source": [
    "db_init_args = {\n",
    "    \"database\": \"postgres\",\n",
    "    \"host\": \"crossdot-postgres-2.c7noywaluiwu.us-east-1.rds.amazonaws.com\",\n",
    "    \"user\": \"crossdot_db_user\",\n",
    "    \"password\": \"vwWUQeXs37IzQlDTbIBN3KXxNZE7HQhT\",\n",
    "    \"port\": 5432,\n",
    "}\n",
    "conn = psycopg2.connect(**db_init_args)\n",
    "cursor = conn.cursor()"
   ]
  },
  {
   "attachments": {},
   "cell_type": "markdown",
   "metadata": {},
   "source": [
    "##### get all tables:"
   ]
  },
  {
   "cell_type": "code",
   "execution_count": 3,
   "metadata": {},
   "outputs": [
    {
     "name": "stdout",
     "output_type": "stream",
     "text": [
      "[('schema_migrations',), ('ar_internal_metadata',), ('api_tokens',), ('prompts',), ('users',), ('verification_tokens',), ('sessions',), ('generated_images',)]\n"
     ]
    }
   ],
   "source": [
    "cursor.execute(\"select relname from pg_class where relkind='r' and relname !~ '^(pg_|sql_)';\")\n",
    "print(cursor.fetchall())\n",
    "cursor.close()"
   ]
  },
  {
   "cell_type": "code",
   "execution_count": 123,
   "metadata": {},
   "outputs": [],
   "source": [
    "def get_user_token_by_token(token, cursor):\n",
    "    cursor.execute(\"select * from api_tokens where token = %s;\", (token,))\n",
    "    return cursor.fetchone()"
   ]
  },
  {
   "cell_type": "code",
   "execution_count": 227,
   "metadata": {},
   "outputs": [],
   "source": [
    "token = \"e2a88fd26a1e3575de410ee29ee946d9\"\n",
    "user_token = get_user_token_by_token(token, cursor)"
   ]
  },
  {
   "cell_type": "code",
   "execution_count": 230,
   "metadata": {},
   "outputs": [
    {
     "data": {
      "text/plain": [
       "2"
      ]
     },
     "execution_count": 230,
     "metadata": {},
     "output_type": "execute_result"
    }
   ],
   "source": [
    "user_id = user_token[1]"
   ]
  },
  {
   "cell_type": "code",
   "execution_count": 6,
   "metadata": {},
   "outputs": [],
   "source": [
    "def get_user_by_id(user_id, cursor):\n",
    "    cursor.execute(\"select * from users where id = %s;\", (user_id,))\n",
    "    result = cursor.fetchone()\n",
    "    return result\n",
    "\n",
    "user = get_user_by_id(2, cursor)"
   ]
  },
  {
   "cell_type": "code",
   "execution_count": 11,
   "metadata": {},
   "outputs": [
    {
     "data": {
      "text/plain": [
       "(2,\n",
       " 'spammmmm1997@gmail.com',\n",
       " '',\n",
       " 'email',\n",
       " '1687309795904',\n",
       " None,\n",
       " None,\n",
       " None,\n",
       " None,\n",
       " None,\n",
       " None,\n",
       " None,\n",
       " 99.99940000000001,\n",
       " datetime.datetime(2023, 6, 21, 1, 9, 55),\n",
       " datetime.datetime(2023, 6, 21, 1, 9, 55),\n",
       " True)"
      ]
     },
     "execution_count": 11,
     "metadata": {},
     "output_type": "execute_result"
    }
   ],
   "source": [
    "user = get_user_by_id(2, cursor)\n",
    "balance = user[12]\n",
    "# balance\n",
    "user"
   ]
  },
  {
   "cell_type": "code",
   "execution_count": 19,
   "metadata": {},
   "outputs": [
    {
     "name": "stdout",
     "output_type": "stream",
     "text": [
      "99.99700000000004\n"
     ]
    }
   ],
   "source": [
    "# check user balance\n",
    "user_id = 2\n",
    "cursor = conn.cursor()\n",
    "cursor.execute(\"select * from users where id = %s;\", (user_id,))\n",
    "user = cursor.fetchone()\n",
    "balance = user[12]\n",
    "print(balance)\n",
    "cursor.close()"
   ]
  },
  {
   "cell_type": "code",
   "execution_count": 10,
   "metadata": {},
   "outputs": [],
   "source": [
    "def decrease_balance(user_id, cursor):\n",
    "    new_balance = balance - 0.0003\n",
    "    cursor.execute(\"update users set balances = %s where id = %s;\", (new_balance, user_id))\n",
    "\n",
    "decrease_balance(2, cursor)"
   ]
  },
  {
   "cell_type": "code",
   "execution_count": 8,
   "metadata": {},
   "outputs": [],
   "source": [
    "def add_balance(user_id, amount, cursor):\n",
    "    # update balances column\n",
    "    cursor.execute(\"update users set balances = balances + %s where id = %s;\", (amount, user_id))\n",
    "\n",
    "add_balance(2, 100, cursor)"
   ]
  },
  {
   "cell_type": "code",
   "execution_count": 223,
   "metadata": {},
   "outputs": [],
   "source": [
    "def set_zero_balance(user_id, cursor):\n",
    "    cursor.execute(\"update users set balances = 0 where id = %s;\", (user_id,))\n",
    "\n",
    "set_zero_balance(2, cursor)"
   ]
  },
  {
   "cell_type": "code",
   "execution_count": 13,
   "metadata": {},
   "outputs": [],
   "source": [
    "conn.commit()"
   ]
  },
  {
   "cell_type": "code",
   "execution_count": 184,
   "metadata": {},
   "outputs": [
    {
     "name": "stdout",
     "output_type": "stream",
     "text": [
      "[('id', 'bigint'), ('reset_password_sent_at', 'timestamp without time zone'), ('remember_created_at', 'timestamp without time zone'), ('balances', 'double precision'), ('created_at', 'timestamp without time zone'), ('updated_at', 'timestamp without time zone'), ('email_verified', 'boolean'), ('username', 'character varying'), ('name', 'character varying'), ('nickname', 'character varying'), ('email', 'character varying'), ('encrypted_password', 'character varying'), ('provider', 'character varying'), ('uid', 'character varying'), ('reset_password_token', 'character varying'), ('image', 'character varying')]\n"
     ]
    }
   ],
   "source": [
    "# get schema of users table\n",
    "cursor.execute(\"select column_name, data_type from information_schema.columns where table_name = 'users';\")\n",
    "print(cursor.fetchall())"
   ]
  },
  {
   "cell_type": "code",
   "execution_count": 232,
   "metadata": {},
   "outputs": [
    {
     "name": "stdout",
     "output_type": "stream",
     "text": [
      "[('id', 'bigint'), ('created_at', 'timestamp without time zone'), ('updated_at', 'timestamp without time zone'), ('detected_objects', 'json'), ('image_url', 'character varying')]\n"
     ]
    }
   ],
   "source": [
    "# get schema of generated_images table\n",
    "cursor.execute(\"select column_name, data_type from information_schema.columns where table_name = 'generated_images';\")\n",
    "print(cursor.fetchall())"
   ]
  },
  {
   "cell_type": "code",
   "execution_count": 153,
   "metadata": {},
   "outputs": [],
   "source": [
    "conn.close()"
   ]
  },
  {
   "cell_type": "code",
   "execution_count": 36,
   "metadata": {},
   "outputs": [
    {
     "name": "stdout",
     "output_type": "stream",
     "text": [
      "(2, datetime.datetime(2023, 6, 21, 6, 13, 54, 218133), datetime.datetime(2023, 6, 21, 6, 13, 54, 218133), 'https://image.civitai.com/xG1nkqKTMzGDvpLrqFT7WA/fb2c6c74-97ee-4cda-fda4-8ea23f892200/width=707/8651cacc-5138-4053-e11a-a170817ffd00.jpeg', [['adult', 0.8161009550094604]])\n",
      "(3, datetime.datetime(2023, 6, 21, 6, 16, 31, 104941), datetime.datetime(2023, 6, 21, 6, 16, 31, 104941), 'https://image.civitai.com/xG1nkqKTMzGDvpLrqFT7WA/fb2c6c74-97ee-4cda-fda4-8ea23f892200/width=707/8651cacc-5138-4053-e11a-a170817ffd00.jpeg', [['adult', 0.8161009550094604]])\n",
      "(4, datetime.datetime(2023, 6, 21, 6, 16, 33, 270232), datetime.datetime(2023, 6, 21, 6, 16, 33, 270232), 'https://image.civitai.com/xG1nkqKTMzGDvpLrqFT7WA/fb2c6c74-97ee-4cda-fda4-8ea23f892200/width=707/8651cacc-5138-4053-e11a-a170817ffd00.jpeg', [['adult', 0.8161009550094604]])\n",
      "(5, datetime.datetime(2023, 6, 21, 6, 16, 46, 363394), datetime.datetime(2023, 6, 21, 6, 16, 46, 363394), 'https://image.civitai.com/xG1nkqKTMzGDvpLrqFT7WA/fb2c6c74-97ee-4cda-fda4-8ea23f892200/width=707/8651cacc-5138-4053-e11a-a170817ffd00.jpeg', [['adult', 0.8161009550094604]])\n",
      "(6, datetime.datetime(2023, 6, 21, 6, 16, 48, 741470), datetime.datetime(2023, 6, 21, 6, 16, 48, 741470), 'https://image.civitai.com/xG1nkqKTMzGDvpLrqFT7WA/fb2c6c74-97ee-4cda-fda4-8ea23f892200/width=707/8651cacc-5138-4053-e11a-a170817ffd00.jpeg', [['adult', 0.8161009550094604]])\n",
      "(7, datetime.datetime(2023, 6, 21, 6, 17, 2, 502258), datetime.datetime(2023, 6, 21, 6, 17, 2, 502258), 'https://image.civitai.com/xG1nkqKTMzGDvpLrqFT7WA/fb2c6c74-97ee-4cda-fda4-8ea23f892200/width=707/8651cacc-5138-4053-e11a-a170817ffd00.jpeg', [['adult', 0.8161009550094604]])\n",
      "(8, datetime.datetime(2023, 6, 21, 6, 18, 11, 244567), datetime.datetime(2023, 6, 21, 6, 18, 11, 244567), 'https://image.civitai.com/xG1nkqKTMzGDvpLrqFT7WA/fb2c6c74-97ee-4cda-fda4-8ea23f892200/width=707/8651cacc-5138-4053-e11a-a170817ffd00.jpeg', [['adult', 0.8161009550094604]])\n",
      "(9, datetime.datetime(2023, 6, 21, 6, 19, 28, 808293), datetime.datetime(2023, 6, 21, 6, 19, 28, 808293), 'https://image.civitai.com/xG1nkqKTMzGDvpLrqFT7WA/fb2c6c74-97ee-4cda-fda4-8ea23f892200/width=707/8651cacc-5138-4053-e11a-a170817ffd00.jpeg', [['adult', 0.8161009550094604]])\n",
      "(10, datetime.datetime(2023, 6, 21, 3, 33, 51, 118639), datetime.datetime(2023, 6, 21, 3, 33, 51, 118639), 'https://image.civitai.com/xG1nkqKTMzGDvpLrqFT7WA/fb2c6c74-97ee-4cda-fda4-8ea23f892200/width=707/8651cacc-5138-4053-e11a-a170817ffd00.jpeg', [['adult', 0.8163002133369446]])\n",
      "(11, datetime.datetime(2023, 6, 21, 3, 33, 53, 163516), datetime.datetime(2023, 6, 21, 3, 33, 53, 163516), 'https://image.civitai.com/xG1nkqKTMzGDvpLrqFT7WA/fb2c6c74-97ee-4cda-fda4-8ea23f892200/width=707/8651cacc-5138-4053-e11a-a170817ffd00.jpeg', [['adult', 0.8163002133369446]])\n",
      "(12, datetime.datetime(2023, 6, 21, 3, 43, 53, 397363), datetime.datetime(2023, 6, 21, 3, 43, 53, 397363), 'https://image.civitai.com/xG1nkqKTMzGDvpLrqFT7WA/fb2c6c74-97ee-4cda-fda4-8ea23f892200/width=707/8651cacc-5138-4053-e11a-a170817ffd00.jpeg', [['adult', 0.8163002133369446]])\n",
      "(13, datetime.datetime(2023, 6, 21, 3, 43, 55, 249874), datetime.datetime(2023, 6, 21, 3, 43, 55, 249874), 'https://image.civitai.com/xG1nkqKTMzGDvpLrqFT7WA/fb2c6c74-97ee-4cda-fda4-8ea23f892200/width=707/8651cacc-5138-4053-e11a-a170817ffd00.jpeg', [['adult', 0.8163002133369446]])\n",
      "(14, datetime.datetime(2023, 6, 21, 3, 45, 58, 493149), datetime.datetime(2023, 6, 21, 3, 45, 58, 493149), 'https://image.civitai.com/xG1nkqKTMzGDvpLrqFT7WA/fb2c6c74-97ee-4cda-fda4-8ea23f892200/width=707/8651cacc-5138-4053-e11a-a170817ffd00.jpeg', [['adult', 0.8163002133369446]])\n",
      "(15, datetime.datetime(2023, 6, 21, 3, 46, 5, 179182), datetime.datetime(2023, 6, 21, 3, 46, 5, 179182), 'https://image.civitai.com/xG1nkqKTMzGDvpLrqFT7WA/fb2c6c74-97ee-4cda-fda4-8ea23f892200/width=707/8651cacc-5138-4053-e11a-a170817ffd00.jpeg', [['adult', 0.8163002133369446]])\n",
      "(16, datetime.datetime(2023, 6, 21, 3, 46, 25, 805168), datetime.datetime(2023, 6, 21, 3, 46, 25, 805168), 'https://image.civitai.com/xG1nkqKTMzGDvpLrqFT7WA/fb2c6c74-97ee-4cda-fda4-8ea23f892200/width=707/8651cacc-5138-4053-e11a-a170817ffd00.jpeg', [['adult', 0.8163002133369446]])\n",
      "(17, datetime.datetime(2023, 6, 21, 6, 55, 25, 758774), datetime.datetime(2023, 6, 21, 6, 55, 25, 758774), 'https://image.civitai.com/xG1nkqKTMzGDvpLrqFT7WA/fb2c6c74-97ee-4cda-fda4-8ea23f892200/width=707/8651cacc-5138-4053-e11a-a170817ffd00.jpeg', [['adult', 0.8161009550094604]])\n",
      "(18, datetime.datetime(2023, 6, 21, 6, 57, 20, 791307), datetime.datetime(2023, 6, 21, 6, 57, 20, 791307), 'https://image.civitai.com/xG1nkqKTMzGDvpLrqFT7WA/fb2c6c74-97ee-4cda-fda4-8ea23f892200/width=707/8651cacc-5138-4053-e11a-a170817ffd00.jpeg', [['adult', 0.8161009550094604]])\n",
      "(19, datetime.datetime(2023, 6, 21, 6, 57, 27, 886732), datetime.datetime(2023, 6, 21, 6, 57, 27, 886732), 'https://image.civitai.com/xG1nkqKTMzGDvpLrqFT7WA/fb2c6c74-97ee-4cda-fda4-8ea23f892200/width=707/8651cacc-5138-4053-e11a-a170817ffd00.jpeg', [['adult', 0.8161009550094604]])\n",
      "(20, datetime.datetime(2023, 6, 21, 6, 59, 1, 60695), datetime.datetime(2023, 6, 21, 6, 59, 1, 60695), 'https://image.civitai.com/xG1nkqKTMzGDvpLrqFT7WA/fb2c6c74-97ee-4cda-fda4-8ea23f892200/width=707/8651cacc-5138-4053-e11a-a170817ffd00.jpeg', [['adult', 0.8161009550094604]])\n"
     ]
    }
   ],
   "source": [
    "def get_all_users(cursor):\n",
    "    cursor.execute(\"select * from users;\")\n",
    "    return cursor.fetchall()\n",
    "\n",
    "\n",
    "def get_all_tokens(cursor):\n",
    "    cursor.execute(\"select * from api_tokens;\")\n",
    "    return cursor.fetchall()\n",
    "\n",
    "def get_all_generated_images(cursor):\n",
    "    cursor.execute(\"select * from generated_images;\")\n",
    "    return cursor.fetchall()\n",
    "\n",
    "# for _token in get_all_tokens(cursor):\n",
    "#     print(_token)\n",
    "\n",
    "# cursor = conn.cursor()\n",
    "# for _image in get_all_generated_images(cursor):\n",
    "#     print(_image)\n",
    "\n",
    "# cursor = conn.cursor()\n",
    "# for _user in get_all_users(cursor):\n",
    "#     print(_user)\n",
    "\n",
    "cursor.close()\n",
    "\n",
    "# for user in get_all_users(cursor):\n",
    "#     print(user)"
   ]
  },
  {
   "cell_type": "code",
   "execution_count": 25,
   "metadata": {},
   "outputs": [
    {
     "data": {
      "text/plain": [
       "[['adult', 0.8161009550094604]]"
      ]
     },
     "execution_count": 25,
     "metadata": {},
     "output_type": "execute_result"
    }
   ],
   "source": [
    "_image[-1]"
   ]
  },
  {
   "cell_type": "code",
   "execution_count": 33,
   "metadata": {},
   "outputs": [
    {
     "data": {
      "text/plain": [
       "0.0002999999999957481"
      ]
     },
     "execution_count": 33,
     "metadata": {},
     "output_type": "execute_result"
    }
   ],
   "source": [
    "99.99520000000007 - 99.99490000000007"
   ]
  }
 ],
 "metadata": {
  "kernelspec": {
   "display_name": "Python 3",
   "language": "python",
   "name": "python3"
  },
  "language_info": {
   "codemirror_mode": {
    "name": "ipython",
    "version": 3
   },
   "file_extension": ".py",
   "mimetype": "text/x-python",
   "name": "python",
   "nbconvert_exporter": "python",
   "pygments_lexer": "ipython3",
   "version": "3.8.13"
  },
  "orig_nbformat": 4
 },
 "nbformat": 4,
 "nbformat_minor": 2
}
