{
 "cells": [
  {
   "cell_type": "code",
   "execution_count": 22,
   "metadata": {},
   "outputs": [],
   "source": [
    "import psycopg2\n",
    "import datetime"
   ]
  },
  {
   "cell_type": "code",
   "execution_count": 81,
   "metadata": {},
   "outputs": [],
   "source": [
    "db_init_args = {\n",
    "    \"database\": \"crossdot_db\",\n",
    "    \"host\": \"dpg-chvjutorddlbpl16k1mg-a.oregon-postgres.render.com\",\n",
    "    \"user\": \"crossdot_db_user\",\n",
    "    \"password\": \"vwWUQeXs37IzQlDTbIBN3KXxNZE7HQhT\",\n",
    "    \"port\": 5432,\n",
    "}\n",
    "conn = psycopg2.connect(**db_init_args)\n",
    "# cursor.execute(\"select relname from pg_class where relkind='r' and relname !~ '^(pg_|sql_)';\")\n",
    "# print(cursor.fetchall())\n",
    "# cursor.close()"
   ]
  },
  {
   "cell_type": "code",
   "execution_count": 100,
   "metadata": {},
   "outputs": [
    {
     "name": "stdout",
     "output_type": "stream",
     "text": [
      "(1, datetime.datetime(2023, 6, 6, 14, 30, 43, 162415), datetime.datetime(2023, 6, 6, 14, 30, 43, 162415), 'https://ik.imagekit.io/zws1gqsycm/a7f5c569-7cd3-473d-8ae7-1866a976ff97-0.png')\n",
      "(2, datetime.datetime(2023, 6, 7, 15, 22, 59, 655738), datetime.datetime(2023, 6, 7, 15, 22, 59, 655738), 'https://dev-images.wombo.art/generated/c0704022-267d-40e3-ab27-fd9b556c755e/6.jpg?Expires=1693351363&Signature=RDHVbEcgl06STEc6vrMx3FjHuBsu4C5RewccuPgkl1G4gTsiLyftXNguT3NkidLdHJssFquoc1sIcUjNyDCSUYlyZX5dfxEnKCKeA3xfUfRdX0b8YwLPi1YwyR7mRmJVhRVP4Unas5jpg-BGMCAYqVYlxQaP7sebI2Oov68Si7rQP7hfXlykZvGiLuY1cE0RcvZueZfnbdW11Us1FTHq6ReHctf20mIAYYkne0ChrH5rvMhs-Lg73IyUy0JTIxNOU~JTCW7jeWs-T9VsVuJpRIyX0wsduMCdZNfvgVpu2Ni0n9Tcbz-mywGhUiNYZb-hQWZUJlOBsRc~T7jgPi1aqQ__&Key-Pair-Id=K4PFOMOTT82MZ')\n",
      "(3, datetime.datetime(2023, 6, 7, 15, 23, 9, 997348), datetime.datetime(2023, 6, 7, 15, 23, 9, 997348), 'https://dev-images.wombo.art/generated/c0704022-267d-40e3-ab27-fd9b556c755e/6.jpg?Expires=1693351363&Signature=RDHVbEcgl06STEc6vrMx3FjHuBsu4C5RewccuPgkl1G4gTsiLyftXNguT3NkidLdHJssFquoc1sIcUjNyDCSUYlyZX5dfxEnKCKeA3xfUfRdX0b8YwLPi1YwyR7mRmJVhRVP4Unas5jpg-BGMCAYqVYlxQaP7sebI2Oov68Si7rQP7hfXlykZvGiLuY1cE0RcvZueZfnbdW11Us1FTHq6ReHctf20mIAYYkne0ChrH5rvMhs-Lg73IyUy0JTIxNOU~JTCW7jeWs-T9VsVuJpRIyX0wsduMCdZNfvgVpu2Ni0n9Tcbz-mywGhUiNYZb-hQWZUJlOBsRc~T7jgPi1aqQ__&Key-Pair-Id=K4PFOMOTT82MZ')\n",
      "(4, datetime.datetime(2023, 6, 7, 15, 23, 13, 4160), datetime.datetime(2023, 6, 7, 15, 23, 13, 4160), 'https://dev-images.wombo.art/generated/c0704022-267d-40e3-ab27-fd9b556c755e/6.jpg?Expires=1693351363&Signature=RDHVbEcgl06STEc6vrMx3FjHuBsu4C5RewccuPgkl1G4gTsiLyftXNguT3NkidLdHJssFquoc1sIcUjNyDCSUYlyZX5dfxEnKCKeA3xfUfRdX0b8YwLPi1YwyR7mRmJVhRVP4Unas5jpg-BGMCAYqVYlxQaP7sebI2Oov68Si7rQP7hfXlykZvGiLuY1cE0RcvZueZfnbdW11Us1FTHq6ReHctf20mIAYYkne0ChrH5rvMhs-Lg73IyUy0JTIxNOU~JTCW7jeWs-T9VsVuJpRIyX0wsduMCdZNfvgVpu2Ni0n9Tcbz-mywGhUiNYZb-hQWZUJlOBsRc~T7jgPi1aqQ__&Key-Pair-Id=K4PFOMOTT82MZ')\n",
      "(5, datetime.datetime(2023, 6, 7, 15, 24, 8, 984912), datetime.datetime(2023, 6, 7, 15, 24, 8, 984912), 'https://dev-images.wombo.art/generated/b46c010b-1033-4ab3-9598-e7c4fc787082/final.jpg?Expires=1693351420&Signature=TCOMjSGsgrqLLlM0C4u1-7OrrBhYJZO2YtkBJyq3OJxQ949VZ3T4dyXZJIL944xFApazXUbKjvLG~90em1ui2nVTGmROY5Y4SS7imL6qfLKJP8jO2ijTUU84tot57icBBDJzu00WgMLN3M7oRpPHpN2QAKxlhWgezxNDlKjbQGVY9JDwNLkRAB01XzFGF2LM-SLUXhL6zV9kXt~0jcybqnOgTxZXI2QWSOLcg5rIt5agQXQDSKAI4iPJsjbPIUc~JCAioIyS~8l92EoAIDaMaiBMU5wGwzW8fb5uKfzMfzYmKUUV93w8zyKovL9nD7WfBQ928YnpYLI5rg0kkj20AQ__&Key-Pair-Id=K4PFOMOTT82MZ')\n",
      "(6, datetime.datetime(2023, 6, 7, 15, 26, 55, 838303), datetime.datetime(2023, 6, 7, 15, 26, 55, 838303), '{{dream_image_url}}')\n",
      "(7, datetime.datetime(2023, 6, 7, 15, 27, 4, 283152), datetime.datetime(2023, 6, 7, 15, 27, 4, 283152), 'https://dev-images.wombo.art/generated/23051dfc-ae9c-4488-bbbb-e4961df50885/3.jpg?Expires=1693351620&Signature=qk~geuPut8ACmSEaaZCcSN9EFTSpOFxsC8Rjt87OzU-HfA7AbuDpCeJiAyP5ff-jnEUNvHq1RRyPvUVk2rrG0~02JlN1kVB2bEzw1et7cZ2bQryLQ1W~1HjAxkTGrHlEz4Ok0eWJc9P8lXFdq9SvLy0G0~Lk2wdQszW~0TSqFXHy-mxw1Jlhl8ybPaqCaKlPrjJ1pwv2Y9lBFtR6cK0xFSFvCVpNrfT8laz79ico7DzBhARRZOKDuZNdD1~bdQXW0n9hLhG8t6FmFarrKLFAefF4cJmQS5oMGjuyUHaenzYBSuSYE6mSVNY5aZwIAHsufR8dT5HehRtklTtddjfeJA__&Key-Pair-Id=K4PFOMOTT82MZ')\n",
      "(8, datetime.datetime(2023, 6, 7, 15, 29, 4, 281465), datetime.datetime(2023, 6, 7, 15, 29, 4, 281465), 'https://dev-images.wombo.art/generated/23051dfc-ae9c-4488-bbbb-e4961df50885/3.jpg?Expires=1693351620&Signature=qk~geuPut8ACmSEaaZCcSN9EFTSpOFxsC8Rjt87OzU-HfA7AbuDpCeJiAyP5ff-jnEUNvHq1RRyPvUVk2rrG0~02JlN1kVB2bEzw1et7cZ2bQryLQ1W~1HjAxkTGrHlEz4Ok0eWJc9P8lXFdq9SvLy0G0~Lk2wdQszW~0TSqFXHy-mxw1Jlhl8ybPaqCaKlPrjJ1pwv2Y9lBFtR6cK0xFSFvCVpNrfT8laz79ico7DzBhARRZOKDuZNdD1~bdQXW0n9hLhG8t6FmFarrKLFAefF4cJmQS5oMGjuyUHaenzYBSuSYE6mSVNY5aZwIAHsufR8dT5HehRtklTtddjfeJA__&Key-Pair-Id=K4PFOMOTT82MZ')\n",
      "(9, datetime.datetime(2023, 6, 7, 15, 29, 32, 469311), datetime.datetime(2023, 6, 7, 15, 29, 32, 469311), 'https://dev-images.wombo.art/generated/89a5526d-fdcd-4f94-a0da-e53f07ed67de/3.jpg?Expires=1693351764&Signature=i0u7WFd8BkXTIycAOleyWUe0gvbGXTysfZtzGhsu4eGbAmPEJREC-O0qyikYN-hnnzEJ4wpZnJ4WEDGbRkht6OvIL4G0d5tWoxQHhyTCRaJaLG-mwYl0xYoJa2lQjaikemrBd-BlLqP88020b4RpHvZKg1faubmvIp7FjA5Kp5LAbX34rkc3lr4lbvHMsdniE8ATQcwqaDHQLeSbxDep0Xq06nYiS--AeLyw6yJfxWYL9kq1k3cm-YKNpIghIbeU3zeCkejlIegQr2lDRFuHmD6ET2GmNMcOF-IGirA1r483wXHetiG~Qgr0h9PLWVPGdxHCJ5YgjILFoQANCGFUPw__&Key-Pair-Id=K4PFOMOTT82MZ')\n",
      "(10, datetime.datetime(2023, 6, 7, 15, 30, 0, 344184), datetime.datetime(2023, 6, 7, 15, 30, 0, 344184), 'https://dev-images.wombo.art/generated/65f7a7f2-1f0e-4b08-a369-99a977ae8f5a/5.jpg?Expires=1693351796&Signature=avurkT55SMbk48cOMpcjPiSLuXby-HM97nYtDpZLDydr0v864B98qH2aaWLM8wI~bijB4tVzRNCwkqdBKb5aaECdiehrfoy7QticXlIpd3h~9gqqc6e16sMrKkawuRWxqaR~WhK1OFNIlnWcExL7MbYzCIA3y21WQIyuM9NMcZf~VtLOZyw3xOA~yiNIpJwmDOY4t2xB3zyF~FmJFj-oEbOEZv-h9GNsNahaV1v6kSob9RkMzjOtHEBNSWvhbtKD2WaHHeOU9QkHJ1DscEAW-463L1S-97FNBR00W590832988diEcIBsJJ3ofVoRKYMmYpTYs4jhZs0kA2WphzLaA__&Key-Pair-Id=K4PFOMOTT82MZ')\n",
      "(11, datetime.datetime(2023, 6, 7, 15, 32, 12, 242241), datetime.datetime(2023, 6, 7, 15, 32, 12, 242241), 'https://dev-images.wombo.art/generated/f5f05714-4dd3-45bc-a3d7-54e82cb36a67/3.jpg?Expires=1693351928&Signature=jdQHucg7kPkzOhPsHNDoopK02CDfpNE6WFBBKqdMI8NWet0J5lwUAnY4AZJjFH3~D7sAYpWuYWqRDYLCx5fRVN-H~dnVTZlsO84WnNhV7ZT5iOcMeAsGaRF1Swr-HokukGjO--6LAO8sWNwDmmfSXD71cq5oZ0HI7toTkxwdwAQMDZQqgp5ltPTET4W6QeFcfLv71CQ3okYXdNZivL7QMsCYLIjMprP6JjrtHg~N64gH9fhP5hcprYukxXpgjM3FBzywOESMt70bEAZrPlI1Pc3FW1wlbaWuOShFa~24aawWwKRARMxDoN-SqdaWk-vG1EUUiZ4Y86~gtAK2XNVvsQ__&Key-Pair-Id=K4PFOMOTT82MZ')\n",
      "(12, datetime.datetime(2023, 6, 7, 15, 36, 7, 528280), datetime.datetime(2023, 6, 7, 15, 36, 7, 528280), 'https://dev-images.wombo.art/generated/b46c010b-1033-4ab3-9598-e7c4fc787082/final.jpg?Expires=1693351420&Signature=TCOMjSGsgrqLLlM0C4u1-7OrrBhYJZO2YtkBJyq3OJxQ949VZ3T4dyXZJIL944xFApazXUbKjvLG~90em1ui2nVTGmROY5Y4SS7imL6qfLKJP8jO2ijTUU84tot57icBBDJzu00WgMLN3M7oRpPHpN2QAKxlhWgezxNDlKjbQGVY9JDwNLkRAB01XzFGF2LM-SLUXhL6zV9kXt~0jcybqnOgTxZXI2QWSOLcg5rIt5agQXQDSKAI4iPJsjbPIUc~JCAioIyS~8l92EoAIDaMaiBMU5wGwzW8fb5uKfzMfzYmKUUV93w8zyKovL9nD7WfBQ928YnpYLI5rg0kkj20AQ__&Key-Pair-Id=K4PFOMOTT82MZ')\n",
      "(13, datetime.datetime(2023, 6, 7, 15, 36, 51, 73484), datetime.datetime(2023, 6, 7, 15, 36, 51, 73484), 'https://dev-images.wombo.art/generated/f5f05714-4dd3-45bc-a3d7-54e82cb36a67/3.jpg?Expires=1693351928&Signature=jdQHucg7kPkzOhPsHNDoopK02CDfpNE6WFBBKqdMI8NWet0J5lwUAnY4AZJjFH3~D7sAYpWuYWqRDYLCx5fRVN-H~dnVTZlsO84WnNhV7ZT5iOcMeAsGaRF1Swr-HokukGjO--6LAO8sWNwDmmfSXD71cq5oZ0HI7toTkxwdwAQMDZQqgp5ltPTET4W6QeFcfLv71CQ3okYXdNZivL7QMsCYLIjMprP6JjrtHg~N64gH9fhP5hcprYukxXpgjM3FBzywOESMt70bEAZrPlI1Pc3FW1wlbaWuOShFa~24aawWwKRARMxDoN-SqdaWk-vG1EUUiZ4Y86~gtAK2XNVvsQ__&Key-Pair-Id=K4PFOMOTT82MZ')\n",
      "(14, datetime.datetime(2023, 6, 7, 15, 38, 39, 949740), datetime.datetime(2023, 6, 7, 15, 38, 39, 949740), 'https://images.wombo.art/generated/7b55ea70-b745-4929-bbf0-06f17aaef1a7/6.jpg?Expires=1693352305&Signature=4BBCG4AsqZzsVD9P22UUaQ30qbuL6WadN1HjrVDKLAw3rTGhKRVnpb0BMEBuF36uuVQcjcpYQ2r7GlDGYzhDYoHpW2TXXEhHPYYY7OBt8IcEFfiT1C5qs90Uxf9LsYp4-jBrhCTaWJgw4lIlaCt0BSNddSgnVJq4QZNtQS40lfV8-2vgVpW4QoCDJVTz7Yfg8k-3iysMToJGB8ONPt6C5IsV2iDj1xmkzTAMagTgw2qsV8pbRowKBzPLFw-kkGX4UhQGDbWRnm2SiTGPd4WQwPAhKoSUXSgpvnjMtnMIA5NFV2tbkQWtzpbzDstmZY3gA8b6Gy4l5cL8cQJqm6m79g__&Key-Pair-Id=K1ZXCNMC55M2IL')\n",
      "(15, datetime.datetime(2023, 6, 7, 15, 39, 41, 942850), datetime.datetime(2023, 6, 7, 15, 39, 41, 942850), 'https://images.wombo.art/generated/7b55ea70-b745-4929-bbf0-06f17aaef1a7/6.jpg?Expires=1693352305&Signature=4BBCG4AsqZzsVD9P22UUaQ30qbuL6WadN1HjrVDKLAw3rTGhKRVnpb0BMEBuF36uuVQcjcpYQ2r7GlDGYzhDYoHpW2TXXEhHPYYY7OBt8IcEFfiT1C5qs90Uxf9LsYp4-jBrhCTaWJgw4lIlaCt0BSNddSgnVJq4QZNtQS40lfV8-2vgVpW4QoCDJVTz7Yfg8k-3iysMToJGB8ONPt6C5IsV2iDj1xmkzTAMagTgw2qsV8pbRowKBzPLFw-kkGX4UhQGDbWRnm2SiTGPd4WQwPAhKoSUXSgpvnjMtnMIA5NFV2tbkQWtzpbzDstmZY3gA8b6Gy4l5cL8cQJqm6m79g__&Key-Pair-Id=K1ZXCNMC55M2IL')\n",
      "(16, datetime.datetime(2023, 6, 7, 15, 39, 50, 784326), datetime.datetime(2023, 6, 7, 15, 39, 50, 784326), 'https://images.wombo.art/generated/6c82fcc4-5267-4a03-94b6-ecf75c1e6248/6.jpg?Expires=1693352384&Signature=Q74czG60INLhpZrbCQfjYLvkuVWnymnLlBaQos1T9p~-u3WTd30YKCaYfU11KoiV6nYUF7UoNtckxEYCa3qPpSxVj0C0yUonUe3sybx411lp-znRibVPjZQaGFE2BuZv8LLGaEbbpyamijKPpfgSyutDPnGiAfl6zU5ZK9ZG1f5vjw0L6vUe0NHZuGWKWKo2fKPwprgsEOZefdbVx9sGMc5oq~f4H6YG1oZZKQUvi5Ghe~~QUMzQ5JP4LlyTsmXMAOqMMd7ekfhxyg32J6i9rFBmN1cAxNlwytwmROy7wzpxrWP4Zt4qBXCuJmxPMuy1sq-MKPhcRRdPtca4hQiHTQ__&Key-Pair-Id=K1ZXCNMC55M2IL')\n",
      "(63, datetime.datetime(2023, 6, 20, 17, 58, 32, 283967), datetime.datetime(2023, 6, 20, 17, 58, 32, 283967), 'https://www.google.com/images/branding/googlelogo/2x/googlelogo_color_272x92dp.png')\n",
      "(17, datetime.datetime(2023, 6, 7, 18, 19, 5, 555825), datetime.datetime(2023, 6, 7, 18, 19, 5, 555825), 'https://images.wombo.art/generated/6c82fcc4-5267-4a03-94b6-ecf75c1e6248/6.jpg?Expires=1693352384&Signature=Q74czG60INLhpZrbCQfjYLvkuVWnymnLlBaQos1T9p~-u3WTd30YKCaYfU11KoiV6nYUF7UoNtckxEYCa3qPpSxVj0C0yUonUe3sybx411lp-znRibVPjZQaGFE2BuZv8LLGaEbbpyamijKPpfgSyutDPnGiAfl6zU5ZK9ZG1f5vjw0L6vUe0NHZuGWKWKo2fKPwprgsEOZefdbVx9sGMc5oq~f4H6YG1oZZKQUvi5Ghe~~QUMzQ5JP4LlyTsmXMAOqMMd7ekfhxyg32J6i9rFBmN1cAxNlwytwmROy7wzpxrWP4Zt4qBXCuJmxPMuy1sq-MKPhcRRdPtca4hQiHTQ__&Key-Pair-Id=K1ZXCNMC55M2IL')\n",
      "(18, datetime.datetime(2023, 6, 7, 21, 14, 19, 344723), datetime.datetime(2023, 6, 7, 21, 14, 19, 344723), 'https://images.wombo.art/generated/7b55ea70-b745-4929-bbf0-06f17aaef1a7/6.jpg?Expires=1693352305&Signature=4BBCG4AsqZzsVD9P22UUaQ30qbuL6WadN1HjrVDKLAw3rTGhKRVnpb0BMEBuF36uuVQcjcpYQ2r7GlDGYzhDYoHpW2TXXEhHPYYY7OBt8IcEFfiT1C5qs90Uxf9LsYp4-jBrhCTaWJgw4lIlaCt0BSNddSgnVJq4QZNtQS40lfV8-2vgVpW4QoCDJVTz7Yfg8k-3iysMToJGB8ONPt6C5IsV2iDj1xmkzTAMagTgw2qsV8pbRowKBzPLFw-kkGX4UhQGDbWRnm2SiTGPd4WQwPAhKoSUXSgpvnjMtnMIA5NFV2tbkQWtzpbzDstmZY3gA8b6Gy4l5cL8cQJqm6m79g__&Key-Pair-Id=K1ZXCNMC55M2IL')\n",
      "(19, datetime.datetime(2023, 6, 8, 12, 16, 21, 866753), datetime.datetime(2023, 6, 8, 12, 16, 21, 866753), 'https://images.wombo.art/generated/7b55ea70-b745-4929-bbf0-06f17aaef1a7/6.jpg?Expires=1693352305&Signature=4BBCG4AsqZzsVD9P22UUaQ30qbuL6WadN1HjrVDKLAw3rTGhKRVnpb0BMEBuF36uuVQcjcpYQ2r7GlDGYzhDYoHpW2TXXEhHPYYY7OBt8IcEFfiT1C5qs90Uxf9LsYp4-jBrhCTaWJgw4lIlaCt0BSNddSgnVJq4QZNtQS40lfV8-2vgVpW4QoCDJVTz7Yfg8k-3iysMToJGB8ONPt6C5IsV2iDj1xmkzTAMagTgw2qsV8pbRowKBzPLFw-kkGX4UhQGDbWRnm2SiTGPd4WQwPAhKoSUXSgpvnjMtnMIA5NFV2tbkQWtzpbzDstmZY3gA8b6Gy4l5cL8cQJqm6m79g__&Key-Pair-Id=K1ZXCNMC55M2IL')\n",
      "(20, datetime.datetime(2023, 6, 12, 16, 31, 57, 806005), datetime.datetime(2023, 6, 12, 16, 31, 57, 806005), 'https://cdn.stablediffusionapi.com/generations/ecefb2b3-ed57-4af5-99d0-14f406d6cf1e-0.png')\n",
      "(21, datetime.datetime(2023, 6, 12, 16, 32, 19, 696653), datetime.datetime(2023, 6, 12, 16, 32, 19, 696653), 'https://cdn.stablediffusionapi.com/generations/e13b225e-da16-4a4d-9cae-7100ca3bc493-0.png')\n",
      "(22, datetime.datetime(2023, 6, 12, 16, 33, 7, 472123), datetime.datetime(2023, 6, 12, 16, 33, 7, 472123), 'https://cdn.stablediffusionapi.com/generations/e13b225e-da16-4a4d-9cae-7100ca3bc493-0.png')\n",
      "(23, datetime.datetime(2023, 6, 12, 16, 33, 19, 251528), datetime.datetime(2023, 6, 12, 16, 33, 19, 251528), 'https://cdn.stablediffusionapi.com/generations/ecefb2b3-ed57-4af5-99d0-14f406d6cf1e-0.png')\n",
      "(24, datetime.datetime(2023, 6, 12, 16, 34, 22, 929256), datetime.datetime(2023, 6, 12, 16, 34, 22, 929256), 'https://cdn.stablediffusionapi.com/generations/7ff02dd3-4a9c-4c95-a2a3-cbf41bb76980-0.png')\n",
      "(25, datetime.datetime(2023, 6, 12, 16, 36, 35, 153414), datetime.datetime(2023, 6, 12, 16, 36, 35, 153414), 'https://cdn.stablediffusionapi.com/generations/143fa6a2-b12b-4184-9779-b2e8568a5196-0.png')\n",
      "(26, datetime.datetime(2023, 6, 12, 16, 36, 56, 523050), datetime.datetime(2023, 6, 12, 16, 36, 56, 523050), 'https://cdn.stablediffusionapi.com/generations/4dd9f40d-fe4b-4242-bdce-fb03ba1cbb1d-0.png')\n",
      "(27, datetime.datetime(2023, 6, 12, 16, 38, 33, 32985), datetime.datetime(2023, 6, 12, 16, 38, 33, 32985), None)\n",
      "(28, datetime.datetime(2023, 6, 12, 16, 39, 11, 202489), datetime.datetime(2023, 6, 12, 16, 39, 11, 202489), None)\n",
      "(29, datetime.datetime(2023, 6, 12, 16, 39, 38, 713876), datetime.datetime(2023, 6, 12, 16, 39, 38, 713876), 'https://cdn.stablediffusionapi.com/generations/58230bb7-9421-4f57-925e-eb6869ff03c1-0.png')\n",
      "(30, datetime.datetime(2023, 6, 12, 16, 39, 41, 394671), datetime.datetime(2023, 6, 12, 16, 39, 41, 394671), None)\n",
      "(31, datetime.datetime(2023, 6, 12, 16, 39, 47, 587318), datetime.datetime(2023, 6, 12, 16, 39, 47, 587318), 'https://cdn.stablediffusionapi.com/generations/ecefb2b3-ed57-4af5-99d0-14f406d6cf1e-0.png')\n",
      "(32, datetime.datetime(2023, 6, 12, 16, 40, 1, 16612), datetime.datetime(2023, 6, 12, 16, 40, 1, 16612), 'https://cdn.stablediffusionapi.com/generations/6eb49879-5f5d-4224-b74b-6962d9b22f18-0.png')\n",
      "(33, datetime.datetime(2023, 6, 12, 16, 40, 10, 285751), datetime.datetime(2023, 6, 12, 16, 40, 10, 285751), 'https://cdn.stablediffusionapi.com/generations/143fa6a2-b12b-4184-9779-b2e8568a5196-0.png')\n",
      "(34, datetime.datetime(2023, 6, 12, 16, 40, 18, 956637), datetime.datetime(2023, 6, 12, 16, 40, 18, 956637), 'https://cdn.stablediffusionapi.com/generations/f3db0b73-9f90-4c6c-902c-26aac59c2adf-0.png')\n",
      "(35, datetime.datetime(2023, 6, 12, 16, 40, 19, 527725), datetime.datetime(2023, 6, 12, 16, 40, 19, 527725), 'https://cdn.stablediffusionapi.com/generations/7ff02dd3-4a9c-4c95-a2a3-cbf41bb76980-0.png')\n",
      "(36, datetime.datetime(2023, 6, 12, 16, 51, 15, 452789), datetime.datetime(2023, 6, 12, 16, 51, 15, 452789), 'https://cdn.stablediffusionapi.com/generations/7ff02dd3-4a9c-4c95-a2a3-cbf41bb76980-0.png')\n",
      "(37, datetime.datetime(2023, 6, 12, 16, 51, 31, 464441), datetime.datetime(2023, 6, 12, 16, 51, 31, 464441), 'https://cdn.stablediffusionapi.com/generations/ecefb2b3-ed57-4af5-99d0-14f406d6cf1e-0.png')\n",
      "(38, datetime.datetime(2023, 6, 12, 16, 51, 42, 91642), datetime.datetime(2023, 6, 12, 16, 51, 42, 91642), 'https://cdn.stablediffusionapi.com/generations/143fa6a2-b12b-4184-9779-b2e8568a5196-0.png')\n",
      "(39, datetime.datetime(2023, 6, 12, 16, 59, 16, 485066), datetime.datetime(2023, 6, 12, 16, 59, 16, 485066), 'https://cdn.stablediffusionapi.com/generations/f3db0b73-9f90-4c6c-902c-26aac59c2adf-0.png')\n",
      "(40, datetime.datetime(2023, 6, 12, 17, 2, 53, 57148), datetime.datetime(2023, 6, 12, 17, 2, 53, 57148), 'https://cdn.stablediffusionapi.com/generations/48871282-0120-4381-96f7-a60ba8f8920d-0.png')\n",
      "(41, datetime.datetime(2023, 6, 12, 17, 4, 32, 157365), datetime.datetime(2023, 6, 12, 17, 4, 32, 157365), 'https://cdn.stablediffusionapi.com/generations/48871282-0120-4381-96f7-a60ba8f8920d-0.png')\n",
      "(42, datetime.datetime(2023, 6, 12, 17, 4, 57, 932204), datetime.datetime(2023, 6, 12, 17, 4, 57, 932204), 'https://cdn.stablediffusionapi.com/generations/f3db0b73-9f90-4c6c-902c-26aac59c2adf-0.png')\n",
      "(43, datetime.datetime(2023, 6, 16, 17, 39, 10, 648685), datetime.datetime(2023, 6, 16, 17, 39, 10, 648685), 'https://cdn.stablediffusionapi.com/generations/143fa6a2-b12b-4184-9779-b2e8568a5196-0.png')\n",
      "(44, datetime.datetime(2023, 6, 16, 17, 41, 27, 703368), datetime.datetime(2023, 6, 16, 17, 41, 27, 703368), 'https://image.civitai.com/xG1nkqKTMzGDvpLrqFT7WA/b0c11558-755f-443e-abd8-0390816a0047/width=1024/145171-2675062815-30-DPM++%202M%20Karras-1408-realisticVisionV20_v20.jpeg')\n",
      "(45, datetime.datetime(2023, 6, 17, 15, 41, 19, 645006), datetime.datetime(2023, 6, 17, 15, 41, 19, 645006), 'https://images.wombo.art/generated/7b55ea70-b745-4929-bbf0-06f17aaef1a7/6.jpg?Expires=1693352305&Signature=4BBCG4AsqZzsVD9P22UUaQ30qbuL6WadN1HjrVDKLAw3rTGhKRVnpb0BMEBuF36uuVQcjcpYQ2r7GlDGYzhDYoHpW2TXXEhHPYYY7OBt8IcEFfiT1C5qs90Uxf9LsYp4-jBrhCTaWJgw4lIlaCt0BSNddSgnVJq4QZNtQS40lfV8-2vgVpW4QoCDJVTz7Yfg8k-3iysMToJGB8ONPt6C5IsV2iDj1xmkzTAMagTgw2qsV8pbRowKBzPLFw-kkGX4UhQGDbWRnm2SiTGPd4WQwPAhKoSUXSgpvnjMtnMIA5NFV2tbkQWtzpbzDstmZY3gA8b6Gy4l5cL8cQJqm6m79g__&Key-Pair-Id=K1ZXCNMC55M2IL')\n",
      "(46, datetime.datetime(2023, 6, 20, 4, 42, 51, 138181), datetime.datetime(2023, 6, 20, 4, 42, 51, 138181), 'https://image.civitai.com/xG1nkqKTMzGDvpLrqFT7WA/b0c11558-755f-443e-abd8-0390816a0047/width=1024/145171-2675062815-30-DPM++%202M%20Karras-1408-realisticVisionV20_v20.jpeg')\n",
      "(47, datetime.datetime(2023, 6, 20, 4, 48, 37, 944088), datetime.datetime(2023, 6, 20, 4, 48, 37, 944088), 'https://image.civitai.com/xG1nkqKTMzGDvpLrqFT7WA/b0c11558-755f-443e-abd8-0390816a0047/width=1024/145171-2675062815-30-DPM++%202M%20Karras-1408-realisticVisionV20_v20.jpeg')\n",
      "(48, datetime.datetime(2023, 6, 20, 4, 48, 54, 781304), datetime.datetime(2023, 6, 20, 4, 48, 54, 781304), 'https://image.civitai.com/xG1nkqKTMzGDvpLrqFT7WA/b0c11558-755f-443e-abd8-0390816a0047/width=1024/145171-2675062815-30-DPM++%202M%20Karras-1408-realisticVisionV20_v20.jpeg')\n",
      "(49, datetime.datetime(2023, 6, 20, 17, 39, 43, 574905), datetime.datetime(2023, 6, 20, 17, 39, 43, 574905), 'https://www.google.com/images/branding/googlelogo/2x/googlelogo_color_272x92dp.png')\n",
      "(50, datetime.datetime(2023, 6, 20, 17, 40, 50, 858536), datetime.datetime(2023, 6, 20, 17, 40, 50, 858536), 'https://www.google.com/images/branding/googlelogo/2x/googlelogo_color_272x92dp.png')\n",
      "(51, datetime.datetime(2023, 6, 20, 17, 44, 33, 837826), datetime.datetime(2023, 6, 20, 17, 44, 33, 837826), 'https://www.google.com/images/branding/googlelogo/2x/googlelogo_color_272x92dp.png')\n",
      "(52, datetime.datetime(2023, 6, 20, 17, 44, 35, 386250), datetime.datetime(2023, 6, 20, 17, 44, 35, 386250), 'https://www.google.com/images/branding/googlelogo/2x/googlelogo_color_272x92dp.png')\n",
      "(53, datetime.datetime(2023, 6, 20, 17, 44, 37, 42267), datetime.datetime(2023, 6, 20, 17, 44, 37, 42267), 'https://www.google.com/images/branding/googlelogo/2x/googlelogo_color_272x92dp.png')\n",
      "(54, datetime.datetime(2023, 6, 20, 17, 44, 46, 839606), datetime.datetime(2023, 6, 20, 17, 44, 46, 839606), 'https://www.google.com/images/branding/googlelogo/2x/googlelogo_color_272x92dp.png')\n",
      "(55, datetime.datetime(2023, 6, 20, 17, 44, 49, 579868), datetime.datetime(2023, 6, 20, 17, 44, 49, 579868), 'https://www.google.com/images/branding/googlelogo/2x/googlelogo_color_272x92dp.png')\n",
      "(56, datetime.datetime(2023, 6, 20, 17, 46, 19, 322836), datetime.datetime(2023, 6, 20, 17, 46, 19, 322836), 'https://www.google.com/images/branding/googlelogo/2x/googlelogo_color_272x92dp.png')\n",
      "(57, datetime.datetime(2023, 6, 20, 17, 46, 20, 779698), datetime.datetime(2023, 6, 20, 17, 46, 20, 779698), 'https://www.google.com/images/branding/googlelogo/2x/googlelogo_color_272x92dp.png')\n",
      "(58, datetime.datetime(2023, 6, 20, 17, 46, 42, 789002), datetime.datetime(2023, 6, 20, 17, 46, 42, 789002), 'https://www.google.com/images/branding/googlelogo/2x/googlelogo_color_272x92dp.png')\n",
      "(59, datetime.datetime(2023, 6, 20, 17, 56, 19, 845932), datetime.datetime(2023, 6, 20, 17, 56, 19, 845932), 'https://www.google.com/images/branding/googlelogo/2x/googlelogo_color_272x92dp.png')\n",
      "(60, datetime.datetime(2023, 6, 20, 17, 58, 0, 906328), datetime.datetime(2023, 6, 20, 17, 58, 0, 906328), 'https://www.google.com/images/branding/googlelogo/2x/googlelogo_color_272x92dp.png')\n",
      "(61, datetime.datetime(2023, 6, 20, 17, 58, 1, 801366), datetime.datetime(2023, 6, 20, 17, 58, 1, 801366), 'https://www.google.com/images/branding/googlelogo/2x/googlelogo_color_272x92dp.png')\n",
      "(64, datetime.datetime(2023, 6, 20, 17, 58, 48, 522006), datetime.datetime(2023, 6, 20, 17, 58, 48, 522006), 'https://www.google.com/images/branding/googlelogo/2x/googlelogo_color_272x92dp.png')\n",
      "(65, datetime.datetime(2023, 6, 20, 17, 58, 52, 488067), datetime.datetime(2023, 6, 20, 17, 58, 52, 488067), 'https://www.google.com/images/branding/googlelogo/2x/googlelogo_color_272x92dp.png')\n",
      "(66, datetime.datetime(2023, 6, 20, 17, 58, 53, 711438), datetime.datetime(2023, 6, 20, 17, 58, 53, 711438), 'https://www.google.com/images/branding/googlelogo/2x/googlelogo_color_272x92dp.png')\n",
      "(67, datetime.datetime(2023, 6, 20, 17, 58, 54, 423126), datetime.datetime(2023, 6, 20, 17, 58, 54, 423126), 'https://www.google.com/images/branding/googlelogo/2x/googlelogo_color_272x92dp.png')\n",
      "(68, datetime.datetime(2023, 6, 20, 17, 59, 8, 435314), datetime.datetime(2023, 6, 20, 17, 59, 8, 435314), 'https://www.google.com/images/branding/googlelogo/2x/googlelogo_color_272x92dp.png')\n",
      "(69, datetime.datetime(2023, 6, 20, 17, 59, 10, 815483), datetime.datetime(2023, 6, 20, 17, 59, 10, 815483), 'https://www.google.com/images/branding/googlelogo/2x/googlelogo_color_272x92dp.png')\n",
      "(73, datetime.datetime(2023, 6, 20, 18, 1, 20, 28630), datetime.datetime(2023, 6, 20, 18, 1, 20, 28630), 'https://www.google.com/images/branding/googlelogo/2x/googlelogo_color_272x92dp.png')\n",
      "(74, datetime.datetime(2023, 6, 20, 18, 1, 25, 409700), datetime.datetime(2023, 6, 20, 18, 1, 25, 409700), 'https://www.google.com/images/branding/googlelogo/2x/googlelogo_color_272x92dp.png')\n",
      "(75, datetime.datetime(2023, 6, 20, 18, 3, 25, 286450), datetime.datetime(2023, 6, 20, 18, 3, 25, 286450), 'https://www.google.com/images/branding/googlelogo/2x/googlelogo_color_272x92dp.png')\n",
      "(76, datetime.datetime(2023, 6, 20, 18, 3, 26, 848272), datetime.datetime(2023, 6, 20, 18, 3, 26, 848272), 'https://www.google.com/images/branding/googlelogo/2x/googlelogo_color_272x92dp.png')\n",
      "(77, datetime.datetime(2023, 6, 20, 18, 3, 53, 809849), datetime.datetime(2023, 6, 20, 18, 3, 53, 809849), 'https://www.google.com/images/branding/googlelogo/2x/googlelogo_color_272x92dp.png')\n",
      "(78, datetime.datetime(2023, 6, 20, 15, 6, 11, 293970), datetime.datetime(2023, 6, 20, 15, 6, 11, 293970), 'https://www.google.com/images/branding/googlelogo/2x/googlelogo_color_272x92dp.png')\n",
      "(79, datetime.datetime(2023, 6, 20, 15, 6, 14, 71207), datetime.datetime(2023, 6, 20, 15, 6, 14, 71207), 'https://www.google.com/images/branding/googlelogo/2x/googlelogo_color_272x92dp.png')\n",
      "(80, datetime.datetime(2023, 6, 20, 15, 7, 9, 144104), datetime.datetime(2023, 6, 20, 15, 7, 9, 144104), 'https://www.google.com/images/branding/googlelogo/2x/googlelogo_color_272x92dp.png')\n"
     ]
    }
   ],
   "source": [
    "# get all users from the table\n",
    "cursor = conn.cursor()\n",
    "cursor.execute(\"select * from generated_images;\")\n",
    "for image in cursor.fetchall():\n",
    "    print(image)"
   ]
  },
  {
   "cell_type": "code",
   "execution_count": 94,
   "metadata": {},
   "outputs": [],
   "source": [
    "# insert a new image into the table\n",
    "cursor = conn.cursor()\n",
    "created_at = datetime.datetime.now()\n",
    "updated_at = created_at\n",
    "image_url = \"https://www.google.com/images/branding/googlelogo/2x/googlelogo_color_272x92dp.png\"\n",
    "cursor.execute(\"insert into generated_images (created_at, updated_at, image_url) values (%s, %s, %s);\", (created_at, updated_at, image_url))\n",
    "conn.commit()\n",
    "cursor.close()"
   ]
  },
  {
   "cell_type": "code",
   "execution_count": 66,
   "metadata": {},
   "outputs": [],
   "source": [
    "import asyncio\n",
    "import asyncpg\n",
    "\n"
   ]
  },
  {
   "cell_type": "code",
   "execution_count": 73,
   "metadata": {},
   "outputs": [
    {
     "data": {
      "text/plain": [
       "'INSERT 0 1'"
      ]
     },
     "execution_count": 73,
     "metadata": {},
     "output_type": "execute_result"
    }
   ],
   "source": [
    "async_conn = await asyncpg.connect(**db_init_args)\n",
    "created_at = datetime.datetime.now()\n",
    "updated_at = created_at\n",
    "image_url = \"https://www.google.com/images/branding/googlelogo/2x/googlelogo_color_272x92dp.png\"\n",
    "await async_conn.execute(\"insert into generated_images (created_at, updated_at, image_url) values ($1, $2, $3);\", created_at, updated_at, image_url)"
   ]
  }
 ],
 "metadata": {
  "kernelspec": {
   "display_name": "Python 3",
   "language": "python",
   "name": "python3"
  },
  "language_info": {
   "codemirror_mode": {
    "name": "ipython",
    "version": 3
   },
   "file_extension": ".py",
   "mimetype": "text/x-python",
   "name": "python",
   "nbconvert_exporter": "python",
   "pygments_lexer": "ipython3",
   "version": "3.8.13"
  },
  "orig_nbformat": 4
 },
 "nbformat": 4,
 "nbformat_minor": 2
}
